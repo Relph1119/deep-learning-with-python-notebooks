{
 "cells": [
  {
   "cell_type": "code",
   "execution_count": 1,
   "metadata": {},
   "outputs": [
    {
     "name": "stderr",
     "output_type": "stream",
     "text": [
      "Using TensorFlow backend.\n"
     ]
    },
    {
     "data": {
      "text/plain": [
       "'2.3.1'"
      ]
     },
     "execution_count": 1,
     "metadata": {},
     "output_type": "execute_result"
    }
   ],
   "source": [
    "import keras\n",
    "keras.__version__"
   ]
  },
  {
   "cell_type": "markdown",
   "metadata": {},
   "source": [
    "# Overfitting and underfitting\n",
    "\n",
    "This notebook contains the code samples found in Chapter 3, Section 6 of [Deep Learning with Python](https://www.manning.com/books/deep-learning-with-python?a_aid=keras&a_bid=76564dff). Note that the original text features far more content, in particular further explanations and figures: in this notebook, you will only find source code and related comments.\n",
    "\n",
    "----\n",
    "\n",
    "\n",
    "In all the examples we saw in the previous chapter -- movie review sentiment prediction, topic classification, and house price regression -- \n",
    "we could notice that the performance of our model on the held-out validation data would always peak after a few epochs and would then start \n",
    "degrading, i.e. our model would quickly start to _overfit_ to the training data. Overfitting happens in every single machine learning \n",
    "problem. Learning how to deal with overfitting is essential to mastering machine learning.\n",
    "\n",
    "The fundamental issue in machine learning is the tension between optimization and generalization. \"Optimization\" refers to the process of \n",
    "adjusting a model to get the best performance possible on the training data (the \"learning\" in \"machine learning\"), while \"generalization\" \n",
    "refers to how well the trained model would perform on data it has never seen before. The goal of the game is to get good generalization, of \n",
    "course, but you do not control generalization; you can only adjust the model based on its training data.\n",
    "\n",
    "At the beginning of training, optimization and generalization are correlated: the lower your loss on training data, the lower your loss on \n",
    "test data. While this is happening, your model is said to be _under-fit_: there is still progress to be made; the network hasn't yet \n",
    "modeled all relevant patterns in the training data. But after a certain number of iterations on the training data, generalization stops \n",
    "improving, validation metrics stall then start degrading: the model is then starting to over-fit, i.e. is it starting to learn patterns \n",
    "that are specific to the training data but that are misleading or irrelevant when it comes to new data.\n",
    "\n",
    "To prevent a model from learning misleading or irrelevant patterns found in the training data, _the best solution is of course to get \n",
    "more training data_. A model trained on more data will naturally generalize better. When that is no longer possible, the next best solution \n",
    "is to modulate the quantity of information that your model is allowed to store, or to add constraints on what information it is allowed to \n",
    "store. If a network can only afford to memorize a small number of patterns, the optimization process will force it to focus on the most \n",
    "prominent patterns, which have a better chance of generalizing well.\n",
    "\n",
    "The processing of fighting overfitting in this way is called _regularization_. Let's review some of the most common regularization \n",
    "techniques, and let's apply them in practice to improve our movie classification model from  the previous chapter."
   ]
  },
  {
   "cell_type": "markdown",
   "metadata": {},
   "source": [
    "Note: in this notebook we will be using the IMDB test set as our validation set. It doesn't matter in this context.\n",
    "\n",
    "Let's prepare the data using the code from Chapter 3, Section 5:"
   ]
  },
  {
   "cell_type": "code",
   "execution_count": 2,
   "metadata": {},
   "outputs": [],
   "source": [
    "from keras.datasets import imdb\n",
    "import numpy as np\n",
    "\n",
    "(train_data, train_labels), (test_data, test_labels) = imdb.load_data(num_words=10000)\n",
    "\n",
    "def vectorize_sequences(sequences, dimension=10000):\n",
    "    # Create an all-zero matrix of shape (len(sequences), dimension)\n",
    "    results = np.zeros((len(sequences), dimension))\n",
    "    for i, sequence in enumerate(sequences):\n",
    "        results[i, sequence] = 1.  # set specific indices of results[i] to 1s\n",
    "    return results\n",
    "\n",
    "# Our vectorized training data\n",
    "x_train = vectorize_sequences(train_data)\n",
    "# Our vectorized test data\n",
    "x_test = vectorize_sequences(test_data)\n",
    "# Our vectorized labels\n",
    "y_train = np.asarray(train_labels).astype('float32')\n",
    "y_test = np.asarray(test_labels).astype('float32')"
   ]
  },
  {
   "cell_type": "markdown",
   "metadata": {},
   "source": [
    "# Fighting overfitting\n",
    "\n",
    "## Reducing the network's size\n",
    "\n",
    "\n",
    "The simplest way to prevent overfitting is to reduce the size of the model, i.e. the number of learnable parameters in the model (which is \n",
    "determined by the number of layers and the number of units per layer). In deep learning, the number of learnable parameters in a model is \n",
    "often referred to as the model's \"capacity\". Intuitively, a model with more parameters will have more \"memorization capacity\" and therefore \n",
    "will be able to easily learn a perfect dictionary-like mapping between training samples and their targets, a mapping without any \n",
    "generalization power. For instance, a model with 500,000 binary parameters could easily be made to learn the class of every digits in the \n",
    "MNIST training set: we would only need 10 binary parameters for each of the 50,000 digits. Such a model would be useless for classifying \n",
    "new digit samples. Always keep this in mind: deep learning models tend to be good at fitting to the training data, but the real challenge \n",
    "is generalization, not fitting.\n",
    "\n",
    "On the other hand, if the network has limited memorization resources, it will not be able to learn this mapping as easily, and thus, in \n",
    "order to minimize its loss, it will have to resort to learning compressed representations that have predictive power regarding the targets \n",
    "-- precisely the type of representations that we are interested in. At the same time, keep in mind that you should be using models that have \n",
    "enough parameters that they won't be underfitting: your model shouldn't be starved for memorization resources. There is a compromise to be \n",
    "found between \"too much capacity\" and \"not enough capacity\".\n",
    "\n",
    "Unfortunately, there is no magical formula to determine what the right number of layers is, or what the right size for each layer is. You \n",
    "will have to evaluate an array of different architectures (on your validation set, not on your test set, of course) in order to find the \n",
    "right model size for your data. The general workflow to find an appropriate model size is to start with relatively few layers and \n",
    "parameters, and start increasing the size of the layers or adding new layers until you see diminishing returns with regard to the \n",
    "validation loss.\n",
    "\n",
    "Let's try this on our movie review classification network. Our original network was as such:"
   ]
  },
  {
   "cell_type": "code",
   "execution_count": 3,
   "metadata": {},
   "outputs": [],
   "source": [
    "from keras import models\n",
    "from keras import layers\n",
    "\n",
    "original_model = models.Sequential()\n",
    "original_model.add(layers.Dense(16, activation='relu', input_shape=(10000,)))\n",
    "original_model.add(layers.Dense(16, activation='relu'))\n",
    "original_model.add(layers.Dense(1, activation='sigmoid'))\n",
    "\n",
    "original_model.compile(optimizer='rmsprop',\n",
    "                       loss='binary_crossentropy',\n",
    "                       metrics=['acc'])"
   ]
  },
  {
   "cell_type": "markdown",
   "metadata": {},
   "source": [
    "Now let's try to replace it with this smaller network:"
   ]
  },
  {
   "cell_type": "code",
   "execution_count": 4,
   "metadata": {},
   "outputs": [],
   "source": [
    "smaller_model = models.Sequential()\n",
    "smaller_model.add(layers.Dense(4, activation='relu', input_shape=(10000,)))\n",
    "smaller_model.add(layers.Dense(4, activation='relu'))\n",
    "smaller_model.add(layers.Dense(1, activation='sigmoid'))\n",
    "\n",
    "smaller_model.compile(optimizer='rmsprop',\n",
    "                      loss='binary_crossentropy',\n",
    "                      metrics=['acc'])"
   ]
  },
  {
   "cell_type": "markdown",
   "metadata": {},
   "source": [
    "\n",
    "Here's a comparison of the validation losses of the original network and the smaller network. The dots are the validation loss values of \n",
    "the smaller network, and the crosses are the initial network (remember: a lower validation loss signals a better model)."
   ]
  },
  {
   "cell_type": "code",
   "execution_count": 5,
   "metadata": {},
   "outputs": [
    {
     "name": "stdout",
     "output_type": "stream",
     "text": [
      "Train on 25000 samples, validate on 25000 samples\n",
      "Epoch 1/20\n",
      "25000/25000 [==============================] - 7s 271us/step - loss: 0.4721 - acc: 0.8150 - val_loss: 0.3477 - val_acc: 0.8805\n",
      "Epoch 2/20\n",
      "25000/25000 [==============================] - 6s 226us/step - loss: 0.2714 - acc: 0.9064 - val_loss: 0.2876 - val_acc: 0.8891\n",
      "Epoch 3/20\n",
      "25000/25000 [==============================] - 6s 224us/step - loss: 0.2080 - acc: 0.9271 - val_loss: 0.2819 - val_acc: 0.8882\n",
      "Epoch 4/20\n",
      "25000/25000 [==============================] - 6s 227us/step - loss: 0.1731 - acc: 0.9390 - val_loss: 0.2871 - val_acc: 0.8854\n",
      "Epoch 5/20\n",
      "25000/25000 [==============================] - 6s 230us/step - loss: 0.1479 - acc: 0.9489 - val_loss: 0.3200 - val_acc: 0.8756\n",
      "Epoch 6/20\n",
      "25000/25000 [==============================] - 6s 237us/step - loss: 0.1281 - acc: 0.9560 - val_loss: 0.3278 - val_acc: 0.8749\n",
      "Epoch 7/20\n",
      "25000/25000 [==============================] - 6s 228us/step - loss: 0.1131 - acc: 0.9621 - val_loss: 0.3723 - val_acc: 0.8665\n",
      "Epoch 8/20\n",
      "25000/25000 [==============================] - 6s 226us/step - loss: 0.0973 - acc: 0.9684 - val_loss: 0.3727 - val_acc: 0.8716\n",
      "Epoch 9/20\n",
      "25000/25000 [==============================] - 6s 226us/step - loss: 0.0848 - acc: 0.9724 - val_loss: 0.3956 - val_acc: 0.8686\n",
      "Epoch 10/20\n",
      "25000/25000 [==============================] - 6s 224us/step - loss: 0.0729 - acc: 0.9777 - val_loss: 0.4853 - val_acc: 0.8507\n",
      "Epoch 11/20\n",
      "25000/25000 [==============================] - 6s 228us/step - loss: 0.0646 - acc: 0.9805 - val_loss: 0.4533 - val_acc: 0.8638\n",
      "Epoch 12/20\n",
      "25000/25000 [==============================] - 6s 228us/step - loss: 0.0541 - acc: 0.9844 - val_loss: 0.4980 - val_acc: 0.8566 - loss: 0.0536 - acc:  - ETA: 0s - loss: 0.0537 - acc: 0.\n",
      "Epoch 13/20\n",
      "25000/25000 [==============================] - 6s 238us/step - loss: 0.0462 - acc: 0.9872 - val_loss: 0.5171 - val_acc: 0.8588\n",
      "Epoch 14/20\n",
      "25000/25000 [==============================] - 6s 227us/step - loss: 0.0384 - acc: 0.9894 - val_loss: 0.5515 - val_acc: 0.8586\n",
      "Epoch 15/20\n",
      "25000/25000 [==============================] - 6s 226us/step - loss: 0.0319 - acc: 0.9917 - val_loss: 0.5881 - val_acc: 0.8554\n",
      "Epoch 16/20\n",
      "25000/25000 [==============================] - 6s 229us/step - loss: 0.0269 - acc: 0.9934 - val_loss: 0.6233 - val_acc: 0.8550\n",
      "Epoch 17/20\n",
      "25000/25000 [==============================] - 6s 243us/step - loss: 0.0205 - acc: 0.9954 - val_loss: 0.6632 - val_acc: 0.8544\n",
      "Epoch 18/20\n",
      "25000/25000 [==============================] - 6s 231us/step - loss: 0.0186 - acc: 0.9952 - val_loss: 0.7008 - val_acc: 0.8525\n",
      "Epoch 19/20\n",
      "25000/25000 [==============================] - 6s 229us/step - loss: 0.0132 - acc: 0.9972 - val_loss: 0.7605 - val_acc: 0.8489\n",
      "Epoch 20/20\n",
      "25000/25000 [==============================] - 6s 229us/step - loss: 0.0121 - acc: 0.9973 - val_loss: 0.7800 - val_acc: 0.8512\n"
     ]
    }
   ],
   "source": [
    "original_hist = original_model.fit(x_train, y_train,\n",
    "                                   epochs=20,\n",
    "                                   batch_size=512,\n",
    "                                   validation_data=(x_test, y_test))"
   ]
  },
  {
   "cell_type": "code",
   "execution_count": 6,
   "metadata": {},
   "outputs": [
    {
     "name": "stdout",
     "output_type": "stream",
     "text": [
      "Train on 25000 samples, validate on 25000 samples\n",
      "Epoch 1/20\n",
      "25000/25000 [==============================] - 6s 256us/step - loss: 0.5243 - acc: 0.8106 - val_loss: 0.4284 - val_acc: 0.8653\n",
      "Epoch 2/20\n",
      "25000/25000 [==============================] - 7s 261us/step - loss: 0.3456 - acc: 0.8931 - val_loss: 0.3355 - val_acc: 0.8814\n",
      "Epoch 3/20\n",
      "25000/25000 [==============================] - 6s 249us/step - loss: 0.2634 - acc: 0.9136 - val_loss: 0.3001 - val_acc: 0.8844\n",
      "Epoch 4/20\n",
      "25000/25000 [==============================] - 7s 296us/step - loss: 0.2177 - acc: 0.9270 - val_loss: 0.2843 - val_acc: 0.8878\n",
      "Epoch 5/20\n",
      "25000/25000 [==============================] - 7s 293us/step - loss: 0.1890 - acc: 0.9358 - val_loss: 0.2814 - val_acc: 0.8868\n",
      "Epoch 6/20\n",
      "25000/25000 [==============================] - 7s 266us/step - loss: 0.1678 - acc: 0.9436 - val_loss: 0.2938 - val_acc: 0.8820\n",
      "Epoch 7/20\n",
      "25000/25000 [==============================] - 7s 283us/step - loss: 0.1516 - acc: 0.9486 - val_loss: 0.2934 - val_acc: 0.8842\n",
      "Epoch 8/20\n",
      "25000/25000 [==============================] - 7s 276us/step - loss: 0.1387 - acc: 0.9542 - val_loss: 0.3010 - val_acc: 0.8828\n",
      "Epoch 9/20\n",
      "25000/25000 [==============================] - 8s 325us/step - loss: 0.1270 - acc: 0.9583 - val_loss: 0.3125 - val_acc: 0.8810\n",
      "Epoch 10/20\n",
      "25000/25000 [==============================] - 7s 293us/step - loss: 0.1168 - acc: 0.9632 - val_loss: 0.3305 - val_acc: 0.8763\n",
      "Epoch 11/20\n",
      "25000/25000 [==============================] - 7s 285us/step - loss: 0.1086 - acc: 0.9663 - val_loss: 0.3482 - val_acc: 0.8729\n",
      "Epoch 12/20\n",
      "25000/25000 [==============================] - 7s 293us/step - loss: 0.1011 - acc: 0.9679 - val_loss: 0.3590 - val_acc: 0.8742\n",
      "Epoch 13/20\n",
      "25000/25000 [==============================] - 7s 279us/step - loss: 0.0945 - acc: 0.9704 - val_loss: 0.3754 - val_acc: 0.8720\n",
      "Epoch 14/20\n",
      "25000/25000 [==============================] - 6s 251us/step - loss: 0.0884 - acc: 0.9729 - val_loss: 0.3899 - val_acc: 0.8682\n",
      "Epoch 15/20\n",
      "25000/25000 [==============================] - 6s 250us/step - loss: 0.0814 - acc: 0.9760 - val_loss: 0.4096 - val_acc: 0.8657\n",
      "Epoch 16/20\n",
      "25000/25000 [==============================] - 6s 258us/step - loss: 0.0775 - acc: 0.9776 - val_loss: 0.4250 - val_acc: 0.8646\n",
      "Epoch 17/20\n",
      "25000/25000 [==============================] - 7s 283us/step - loss: 0.0717 - acc: 0.9794 - val_loss: 0.4433 - val_acc: 0.8650\n",
      "Epoch 18/20\n",
      "25000/25000 [==============================] - 7s 293us/step - loss: 0.0667 - acc: 0.9818 - val_loss: 0.4631 - val_acc: 0.8610\n",
      "Epoch 19/20\n",
      "25000/25000 [==============================] - 7s 266us/step - loss: 0.0627 - acc: 0.9829 - val_loss: 0.4814 - val_acc: 0.8600\n",
      "Epoch 20/20\n",
      "25000/25000 [==============================] - 7s 278us/step - loss: 0.0583 - acc: 0.9845 - val_loss: 0.5011 - val_acc: 0.8584\n"
     ]
    }
   ],
   "source": [
    "smaller_model_hist = smaller_model.fit(x_train, y_train,\n",
    "                                       epochs=20,\n",
    "                                       batch_size=512,\n",
    "                                       validation_data=(x_test, y_test))"
   ]
  },
  {
   "cell_type": "code",
   "execution_count": 7,
   "metadata": {},
   "outputs": [],
   "source": [
    "epochs = range(1, 21)\n",
    "original_val_loss = original_hist.history['val_loss']\n",
    "smaller_model_val_loss = smaller_model_hist.history['val_loss']"
   ]
  },
  {
   "cell_type": "code",
   "execution_count": 8,
   "metadata": {},
   "outputs": [
    {
     "data": {
      "image/png": "[encoded data removed]",
      "text/plain": [
       "<Figure size 432x288 with 1 Axes>"
      ]
     },
     "metadata": {
      "needs_background": "light"
     },
     "output_type": "display_data"
    }
   ],
   "source": [
    "import matplotlib.pyplot as plt\n",
    "\n",
    "# b+ is for \"blue cross\"\n",
    "plt.plot(epochs, original_val_loss, 'b+', label='Original model')\n",
    "# \"bo\" is for \"blue dot\"\n",
    "plt.plot(epochs, smaller_model_val_loss, 'bo', label='Smaller model')\n",
    "plt.xlabel('Epochs')\n",
    "plt.ylabel('Validation loss')\n",
    "plt.legend()\n",
    "\n",
    "plt.show()"
   ]
  },
  {
   "cell_type": "markdown",
   "metadata": {},
   "source": [
    "\n",
    "As you can see, the smaller network starts overfitting later than the reference one (after 6 epochs rather than 4) and its performance \n",
    "degrades much more slowly once it starts overfitting.\n",
    "\n",
    "Now, for kicks, let's add to this benchmark a network that has much more capacity, far more than the problem would warrant:"
   ]
  },
  {
   "cell_type": "code",
   "execution_count": 9,
   "metadata": {},
   "outputs": [],
   "source": [
    "bigger_model = models.Sequential()\n",
    "bigger_model.add(layers.Dense(512, activation='relu', input_shape=(10000,)))\n",
    "bigger_model.add(layers.Dense(512, activation='relu'))\n",
    "bigger_model.add(layers.Dense(1, activation='sigmoid'))\n",
    "\n",
    "bigger_model.compile(optimizer='rmsprop',\n",
    "                     loss='binary_crossentropy',\n",
    "                     metrics=['acc'])"
   ]
  },
  {
   "cell_type": "code",
   "execution_count": 10,
   "metadata": {},
   "outputs": [
    {
     "name": "stdout",
     "output_type": "stream",
     "text": [
      "Train on 25000 samples, validate on 25000 samples\n",
      "Epoch 1/20\n",
      "25000/25000 [==============================] - 10s 411us/step - loss: 0.4524 - acc: 0.8000 - val_loss: 0.3078 - val_acc: 0.8756\n",
      "Epoch 2/20\n",
      "25000/25000 [==============================] - 10s 407us/step - loss: 0.2075 - acc: 0.9180 - val_loss: 0.3000 - val_acc: 0.8821\n",
      "Epoch 3/20\n",
      "25000/25000 [==============================] - 11s 422us/step - loss: 0.1306 - acc: 0.9519 - val_loss: 0.3138 - val_acc: 0.8840\n",
      "Epoch 4/20\n",
      "25000/25000 [==============================] - 11s 425us/step - loss: 0.0510 - acc: 0.9836 - val_loss: 0.4619 - val_acc: 0.8797\n",
      "Epoch 5/20\n",
      "25000/25000 [==============================] - 12s 468us/step - loss: 0.0667 - acc: 0.9872 - val_loss: 0.5375 - val_acc: 0.8782\n",
      "Epoch 6/20\n",
      "25000/25000 [==============================] - 15s 613us/step - loss: 0.0015 - acc: 0.9999 - val_loss: 0.8505 - val_acc: 0.8649\n",
      "Epoch 7/20\n",
      "25000/25000 [==============================] - 13s 530us/step - loss: 0.1082 - acc: 0.9888 - val_loss: 0.6374 - val_acc: 0.8776\n",
      "Epoch 8/20\n",
      "25000/25000 [==============================] - 17s 671us/step - loss: 2.6897e-04 - acc: 1.0000 - val_loss: 0.8148 - val_acc: 0.8783\n",
      "Epoch 9/20\n",
      "25000/25000 [==============================] - 11s 444us/step - loss: 3.9427e-05 - acc: 1.0000 - val_loss: 1.0119 - val_acc: 0.8777\n",
      "Epoch 10/20\n",
      "25000/25000 [==============================] - 13s 522us/step - loss: 4.3798e-06 - acc: 1.0000 - val_loss: 1.2032 - val_acc: 0.8761\n",
      "Epoch 11/20\n",
      "25000/25000 [==============================] - 13s 506us/step - loss: 0.2066 - acc: 0.9891 - val_loss: 0.9486 - val_acc: 0.8713\n",
      "Epoch 12/20\n",
      "25000/25000 [==============================] - 13s 513us/step - loss: 1.1925e-05 - acc: 1.0000 - val_loss: 0.9414 - val_acc: 0.8751\n",
      "Epoch 13/20\n",
      "25000/25000 [==============================] - 13s 505us/step - loss: 3.8907e-06 - acc: 1.0000 - val_loss: 0.9873 - val_acc: 0.8758\n",
      "Epoch 14/20\n",
      "25000/25000 [==============================] - 12s 491us/step - loss: 1.6528e-06 - acc: 1.0000 - val_loss: 1.0795 - val_acc: 0.8769\n",
      "Epoch 15/20\n",
      "25000/25000 [==============================] - 12s 460us/step - loss: 4.7898e-07 - acc: 1.0000 - val_loss: 1.2255 - val_acc: 0.8775\n",
      "Epoch 16/20\n",
      "25000/25000 [==============================] - 11s 448us/step - loss: 1.1649e-07 - acc: 1.0000 - val_loss: 1.3520 - val_acc: 0.8770\n",
      "Epoch 17/20\n",
      "25000/25000 [==============================] - 13s 518us/step - loss: 3.7916e-08 - acc: 1.0000 - val_loss: 1.4400 - val_acc: 0.8779\n",
      "Epoch 18/20\n",
      "25000/25000 [==============================] - 12s 481us/step - loss: 1.8613e-08 - acc: 1.0000 - val_loss: 1.4887 - val_acc: 0.8776\n",
      "Epoch 19/20\n",
      "25000/25000 [==============================] - 12s 498us/step - loss: 1.2156e-08 - acc: 1.0000 - val_loss: 1.5177 - val_acc: 0.8776\n",
      "Epoch 20/20\n",
      "25000/25000 [==============================] - 11s 456us/step - loss: 9.0707e-09 - acc: 1.0000 - val_loss: 1.5416 - val_acc: 0.8773\n"
     ]
    }
   ],
   "source": [
    "bigger_model_hist = bigger_model.fit(x_train, y_train,\n",
    "                                     epochs=20,\n",
    "                                     batch_size=512,\n",
    "                                     validation_data=(x_test, y_test))"
   ]
  },
  {
   "cell_type": "markdown",
   "metadata": {},
   "source": [
    "Here's how the bigger network fares compared to the reference one. The dots are the validation loss values of the bigger network, and the \n",
    "crosses are the initial network."
   ]
  },
  {
   "cell_type": "code",
   "execution_count": 11,
   "metadata": {},
   "outputs": [
    {
     "data": {
      "image/png": "[encoded data removed]",
      "text/plain": [
       "<Figure size 432x288 with 1 Axes>"
      ]
     },
     "metadata": {
      "needs_background": "light"
     },
     "output_type": "display_data"
    }
   ],
   "source": [
    "bigger_model_val_loss = bigger_model_hist.history['val_loss']\n",
    "\n",
    "plt.plot(epochs, original_val_loss, 'b+', label='Original model')\n",
    "plt.plot(epochs, bigger_model_val_loss, 'bo', label='Bigger model')\n",
    "plt.xlabel('Epochs')\n",
    "plt.ylabel('Validation loss')\n",
    "plt.legend()\n",
    "\n",
    "plt.show()"
   ]
  },
  {
   "cell_type": "markdown",
   "metadata": {},
   "source": [
    "\n",
    "The bigger network starts overfitting almost right away, after just one epoch, and overfits much more severely. Its validation loss is also \n",
    "more noisy.\n",
    "\n",
    "Meanwhile, here are the training losses for our two networks:"
   ]
  },
  {
   "cell_type": "code",
   "execution_count": 12,
   "metadata": {},
   "outputs": [
    {
     "data": {
      "image/png": "[encoded data removed]",
      "text/plain": [
       "<Figure size 432x288 with 1 Axes>"
      ]
     },
     "metadata": {
      "needs_background": "light"
     },
     "output_type": "display_data"
    }
   ],
   "source": [
    "original_train_loss = original_hist.history['loss']\n",
    "bigger_model_train_loss = bigger_model_hist.history['loss']\n",
    "\n",
    "plt.plot(epochs, original_train_loss, 'b+', label='Original model')\n",
    "plt.plot(epochs, bigger_model_train_loss, 'bo', label='Bigger model')\n",
    "plt.xlabel('Epochs')\n",
    "plt.ylabel('Training loss')\n",
    "plt.legend()\n",
    "\n",
    "plt.show()"
   ]
  },
  {
   "cell_type": "markdown",
   "metadata": {},
   "source": [
    "As you can see, the bigger network gets its training loss near zero very quickly. The more capacity the network has, the quicker it will be \n",
    "able to model the training data (resulting in a low training loss), but the more susceptible it is to overfitting (resulting in a large \n",
    "difference between the training and validation loss)."
   ]
  },
  {
   "cell_type": "markdown",
   "metadata": {},
   "source": [
    "## Adding weight regularization\n",
    "\n",
    "\n",
    "You may be familiar with _Occam's Razor_ principle: given two explanations for something, the explanation most likely to be correct is the \n",
    "\"simplest\" one, the one that makes the least amount of assumptions. This also applies to the models learned by neural networks: given some \n",
    "training data and a network architecture, there are multiple sets of weights values (multiple _models_) that could explain the data, and \n",
    "simpler models are less likely to overfit than complex ones.\n",
    "\n",
    "A \"simple model\" in this context is a model where the distribution of parameter values has less entropy (or a model with fewer \n",
    "parameters altogether, as we saw in the section above). Thus a common way to mitigate overfitting is to put constraints on the complexity \n",
    "of a network by forcing its weights to only take small values, which makes the distribution of weight values more \"regular\". This is called \n",
    "\"weight regularization\", and it is done by adding to the loss function of the network a _cost_ associated with having large weights. This \n",
    "cost comes in two flavors:\n",
    "\n",
    "* L1 regularization, where the cost added is proportional to the _absolute value of the weights coefficients_ (i.e. to what is called the \n",
    "\"L1 norm\" of the weights).\n",
    "* L2 regularization, where the cost added is proportional to the _square of the value of the weights coefficients_ (i.e. to what is called \n",
    "the \"L2 norm\" of the weights). L2 regularization is also called _weight decay_ in the context of neural networks. Don't let the different \n",
    "name confuse you: weight decay is mathematically the exact same as L2 regularization.\n",
    "\n",
    "In Keras, weight regularization is added by passing _weight regularizer instances_ to layers as keyword arguments. Let's add L2 weight \n",
    "regularization to our movie review classification network:"
   ]
  },
  {
   "cell_type": "code",
   "execution_count": 13,
   "metadata": {},
   "outputs": [],
   "source": [
    "from keras import regularizers\n",
    "\n",
    "l2_model = models.Sequential()\n",
    "l2_model.add(layers.Dense(16, kernel_regularizer=regularizers.l2(0.001),\n",
    "                          activation='relu', input_shape=(10000,)))\n",
    "l2_model.add(layers.Dense(16, kernel_regularizer=regularizers.l2(0.001),\n",
    "                          activation='relu'))\n",
    "l2_model.add(layers.Dense(1, activation='sigmoid'))"
   ]
  },
  {
   "cell_type": "code",
   "execution_count": 14,
   "metadata": {},
   "outputs": [],
   "source": [
    "l2_model.compile(optimizer='rmsprop',\n",
    "                 loss='binary_crossentropy',\n",
    "                 metrics=['acc'])"
   ]
  },
  {
   "cell_type": "markdown",
   "metadata": {},
   "source": [
    "`l2(0.001)` means that every coefficient in the weight matrix of the layer will add `0.001 * weight_coefficient_value` to the total loss of \n",
    "the network. Note that because this penalty is _only added at training time_, the loss for this network will be much higher at training \n",
    "than at test time.\n",
    "\n",
    "Here's the impact of our L2 regularization penalty:"
   ]
  },
  {
   "cell_type": "code",
   "execution_count": 15,
   "metadata": {},
   "outputs": [
    {
     "name": "stdout",
     "output_type": "stream",
     "text": [
      "Train on 25000 samples, validate on 25000 samples\n",
      "Epoch 1/20\n",
      "25000/25000 [==============================] - 9s 360us/step - loss: 0.5297 - acc: 0.8212 - val_loss: 0.4160 - val_acc: 0.8735\n",
      "Epoch 2/20\n",
      "25000/25000 [==============================] - 9s 346us/step - loss: 0.3459 - acc: 0.8970 - val_loss: 0.3588 - val_acc: 0.8793\n",
      "Epoch 3/20\n",
      "25000/25000 [==============================] - 13s 529us/step - loss: 0.2954 - acc: 0.9132 - val_loss: 0.3347 - val_acc: 0.8886\n",
      "Epoch 4/20\n",
      "25000/25000 [==============================] - 9s 371us/step - loss: 0.2706 - acc: 0.9216 - val_loss: 0.3351 - val_acc: 0.8872\n",
      "Epoch 5/20\n",
      "25000/25000 [==============================] - 9s 343us/step - loss: 0.2543 - acc: 0.9272 - val_loss: 0.3462 - val_acc: 0.8825\n",
      "Epoch 6/20\n",
      "25000/25000 [==============================] - 9s 374us/step - loss: 0.2449 - acc: 0.9312 - val_loss: 0.3475 - val_acc: 0.8819\n",
      "Epoch 7/20\n",
      "25000/25000 [==============================] - 8s 319us/step - loss: 0.2376 - acc: 0.9334 - val_loss: 0.3450 - val_acc: 0.8830 - ac\n",
      "Epoch 8/20\n",
      "25000/25000 [==============================] - 8s 315us/step - loss: 0.2300 - acc: 0.9385 - val_loss: 0.3617 - val_acc: 0.8780\n",
      "Epoch 9/20\n",
      "25000/25000 [==============================] - 9s 366us/step - loss: 0.2267 - acc: 0.9375 - val_loss: 0.3578 - val_acc: 0.8786\n",
      "Epoch 10/20\n",
      "25000/25000 [==============================] - 9s 341us/step - loss: 0.2253 - acc: 0.9387 - val_loss: 0.3641 - val_acc: 0.8777\n",
      "Epoch 11/20\n",
      "25000/25000 [==============================] - 8s 332us/step - loss: 0.2182 - acc: 0.9403 - val_loss: 0.3728 - val_acc: 0.8744\n",
      "Epoch 12/20\n",
      "25000/25000 [==============================] - 9s 353us/step - loss: 0.2184 - acc: 0.9406 - val_loss: 0.3712 - val_acc: 0.8772\n",
      "Epoch 13/20\n",
      "25000/25000 [==============================] - 9s 369us/step - loss: 0.2126 - acc: 0.9444 - val_loss: 0.3760 - val_acc: 0.8758\n",
      "Epoch 14/20\n",
      "25000/25000 [==============================] - 9s 346us/step - loss: 0.2094 - acc: 0.9438 - val_loss: 0.3814 - val_acc: 0.8758\n",
      "Epoch 15/20\n",
      "25000/25000 [==============================] - 9s 360us/step - loss: 0.2058 - acc: 0.9470 - val_loss: 0.3891 - val_acc: 0.8730\n",
      "Epoch 16/20\n",
      "25000/25000 [==============================] - 9s 367us/step - loss: 0.2107 - acc: 0.9434 - val_loss: 0.4116 - val_acc: 0.8662\n",
      "Epoch 17/20\n",
      "25000/25000 [==============================] - 9s 362us/step - loss: 0.2046 - acc: 0.9472 - val_loss: 0.3903 - val_acc: 0.8728\n",
      "Epoch 18/20\n",
      "25000/25000 [==============================] - 9s 378us/step - loss: 0.2034 - acc: 0.9462 - val_loss: 0.3953 - val_acc: 0.8717\n",
      "Epoch 19/20\n",
      "25000/25000 [==============================] - 10s 392us/step - loss: 0.1986 - acc: 0.9485 - val_loss: 0.4095 - val_acc: 0.8680\n",
      "Epoch 20/20\n",
      "25000/25000 [==============================] - 9s 352us/step - loss: 0.2022 - acc: 0.9466 - val_loss: 0.4112 - val_acc: 0.8686\n"
     ]
    }
   ],
   "source": [
    "l2_model_hist = l2_model.fit(x_train, y_train,\n",
    "                             epochs=20,\n",
    "                             batch_size=512,\n",
    "                             validation_data=(x_test, y_test))"
   ]
  },
  {
   "cell_type": "code",
   "execution_count": 16,
   "metadata": {},
   "outputs": [
    {
     "data": {
      "image/png": "[encoded data removed]",
      "text/plain": [
       "<Figure size 432x288 with 1 Axes>"
      ]
     },
     "metadata": {
      "needs_background": "light"
     },
     "output_type": "display_data"
    }
   ],
   "source": [
    "l2_model_val_loss = l2_model_hist.history['val_loss']\n",
    "\n",
    "plt.plot(epochs, original_val_loss, 'b+', label='Original model')\n",
    "plt.plot(epochs, l2_model_val_loss, 'bo', label='L2-regularized model')\n",
    "plt.xlabel('Epochs')\n",
    "plt.ylabel('Validation loss')\n",
    "plt.legend()\n",
    "\n",
    "plt.show()"
   ]
  },
  {
   "cell_type": "markdown",
   "metadata": {},
   "source": [
    "\n",
    "\n",
    "As you can see, the model with L2 regularization (dots) has become much more resistant to overfitting than the reference model (crosses), \n",
    "even though both models have the same number of parameters.\n",
    "\n",
    "As alternatives to L2 regularization, you could use one of the following Keras weight regularizers:"
   ]
  },
  {
   "cell_type": "code",
   "execution_count": 17,
   "metadata": {},
   "outputs": [
    {
     "data": {
      "text/plain": [
       "<keras.regularizers.L1L2 at 0x28ef19e8>"
      ]
     },
     "execution_count": 17,
     "metadata": {},
     "output_type": "execute_result"
    }
   ],
   "source": [
    "from keras import regularizers\n",
    "\n",
    "# L1 regularization\n",
    "regularizers.l1(0.001)\n",
    "\n",
    "# L1 and L2 regularization at the same time\n",
    "regularizers.l1_l2(l1=0.001, l2=0.001)"
   ]
  },
  {
   "cell_type": "markdown",
   "metadata": {},
   "source": [
    "## Adding dropout\n",
    "\n",
    "\n",
    "Dropout is one of the most effective and most commonly used regularization techniques for neural networks, developed by Hinton and his \n",
    "students at the University of Toronto. Dropout, applied to a layer, consists of randomly \"dropping out\" (i.e. setting to zero) a number of \n",
    "output features of the layer during training. Let's say a given layer would normally have returned a vector `[0.2, 0.5, 1.3, 0.8, 1.1]` for a \n",
    "given input sample during training; after applying dropout, this vector will have a few zero entries distributed at random, e.g. `[0, 0.5, \n",
    "1.3, 0, 1.1]`. The \"dropout rate\" is the fraction of the features that are being zeroed-out; it is usually set between 0.2 and 0.5. At test \n",
    "time, no units are dropped out, and instead the layer's output values are scaled down by a factor equal to the dropout rate, so as to \n",
    "balance for the fact that more units are active than at training time.\n",
    "\n",
    "Consider a Numpy matrix containing the output of a layer, `layer_output`, of shape `(batch_size, features)`. At training time, we would be \n",
    "zero-ing out at random a fraction of the values in the matrix:"
   ]
  },
  {
   "cell_type": "code",
   "execution_count": null,
   "metadata": {},
   "outputs": [],
   "source": [
    "# At training time: we drop out 50% of the units in the output\n",
    "layer_output *= np.randint(0, high=2, size=layer_output.shape)"
   ]
  },
  {
   "cell_type": "markdown",
   "metadata": {},
   "source": [
    "\n",
    "At test time, we would be scaling the output down by the dropout rate. Here we scale by 0.5 (because we were previous dropping half the \n",
    "units):"
   ]
  },
  {
   "cell_type": "code",
   "execution_count": null,
   "metadata": {},
   "outputs": [],
   "source": [
    "# At test time:\n",
    "layer_output *= 0.5"
   ]
  },
  {
   "cell_type": "markdown",
   "metadata": {},
   "source": [
    "\n",
    "Note that this process can be implemented by doing both operations at training time and leaving the output unchanged at test time, which is \n",
    "often the way it is implemented in practice:"
   ]
  },
  {
   "cell_type": "code",
   "execution_count": null,
   "metadata": {},
   "outputs": [],
   "source": [
    "# At training time:\n",
    "layer_output *= np.randint(0, high=2, size=layer_output.shape)\n",
    "# Note that we are scaling *up* rather scaling *down* in this case\n",
    "layer_output /= 0.5"
   ]
  },
  {
   "cell_type": "markdown",
   "metadata": {},
   "source": [
    "\n",
    "This technique may seem strange and arbitrary. Why would this help reduce overfitting? Geoff Hinton has said that he was inspired, among \n",
    "other things, by a fraud prevention mechanism used by banks -- in his own words: _\"I went to my bank. The tellers kept changing and I asked \n",
    "one of them why. He said he didn’t know but they got moved around a lot. I figured it must be because it would require cooperation \n",
    "between employees to successfully defraud the bank. This made me realize that randomly removing a different subset of neurons on each \n",
    "example would prevent conspiracies and thus reduce overfitting\"_.\n",
    "\n",
    "The core idea is that introducing noise in the output values of a layer can break up happenstance patterns that are not significant (what \n",
    "Hinton refers to as \"conspiracies\"), which the network would start memorizing if no noise was present. \n",
    "\n",
    "In Keras you can introduce dropout in a network via the `Dropout` layer, which gets applied to the output of layer right before it, e.g.:"
   ]
  },
  {
   "cell_type": "code",
   "execution_count": null,
   "metadata": {},
   "outputs": [],
   "source": [
    "model.add(layers.Dropout(0.5))"
   ]
  },
  {
   "cell_type": "markdown",
   "metadata": {},
   "source": [
    "Let's add two `Dropout` layers in our IMDB network to see how well they do at reducing overfitting:"
   ]
  },
  {
   "cell_type": "code",
   "execution_count": 18,
   "metadata": {},
   "outputs": [],
   "source": [
    "dpt_model = models.Sequential()\n",
    "dpt_model.add(layers.Dense(16, activation='relu', input_shape=(10000,)))\n",
    "dpt_model.add(layers.Dropout(0.5))\n",
    "dpt_model.add(layers.Dense(16, activation='relu'))\n",
    "dpt_model.add(layers.Dropout(0.5))\n",
    "dpt_model.add(layers.Dense(1, activation='sigmoid'))\n",
    "\n",
    "dpt_model.compile(optimizer='rmsprop',\n",
    "                  loss='binary_crossentropy',\n",
    "                  metrics=['acc'])"
   ]
  },
  {
   "cell_type": "code",
   "execution_count": 19,
   "metadata": {},
   "outputs": [
    {
     "name": "stdout",
     "output_type": "stream",
     "text": [
      "Train on 25000 samples, validate on 25000 samples\n",
      "Epoch 1/20\n",
      "25000/25000 [==============================] - 7s 277us/step - loss: 0.5847 - acc: 0.6930 - val_loss: 0.4465 - val_acc: 0.8621\n",
      "Epoch 2/20\n",
      "25000/25000 [==============================] - 6s 239us/step - loss: 0.4422 - acc: 0.8295 - val_loss: 0.3687 - val_acc: 0.8721\n",
      "Epoch 3/20\n",
      "25000/25000 [==============================] - 6s 239us/step - loss: 0.3659 - acc: 0.8730 - val_loss: 0.3278 - val_acc: 0.8837\n",
      "Epoch 4/20\n",
      "25000/25000 [==============================] - 6s 235us/step - loss: 0.3105 - acc: 0.8969 - val_loss: 0.3029 - val_acc: 0.8822\n",
      "Epoch 5/20\n",
      "25000/25000 [==============================] - 6s 236us/step - loss: 0.2760 - acc: 0.9109 - val_loss: 0.2985 - val_acc: 0.8820\n",
      "Epoch 6/20\n",
      "25000/25000 [==============================] - 6s 239us/step - loss: 0.2389 - acc: 0.9244 - val_loss: 0.3067 - val_acc: 0.8808\n",
      "Epoch 7/20\n",
      "25000/25000 [==============================] - 6s 235us/step - loss: 0.2173 - acc: 0.9282 - val_loss: 0.3253 - val_acc: 0.8822\n",
      "Epoch 8/20\n",
      "25000/25000 [==============================] - 6s 233us/step - loss: 0.1987 - acc: 0.9369 - val_loss: 0.3358 - val_acc: 0.8777\n",
      "Epoch 9/20\n",
      "25000/25000 [==============================] - 6s 236us/step - loss: 0.1780 - acc: 0.9437 - val_loss: 0.3529 - val_acc: 0.8748\n",
      "Epoch 10/20\n",
      "25000/25000 [==============================] - 6s 236us/step - loss: 0.1688 - acc: 0.9476 - val_loss: 0.4123 - val_acc: 0.8770\n",
      "Epoch 11/20\n",
      "25000/25000 [==============================] - 6s 243us/step - loss: 0.1577 - acc: 0.9502 - val_loss: 0.3961 - val_acc: 0.8733\n",
      "Epoch 12/20\n",
      "25000/25000 [==============================] - 6s 242us/step - loss: 0.1458 - acc: 0.9547 - val_loss: 0.4325 - val_acc: 0.8746\n",
      "Epoch 13/20\n",
      "25000/25000 [==============================] - 6s 248us/step - loss: 0.1357 - acc: 0.9578 - val_loss: 0.4442 - val_acc: 0.8677\n",
      "Epoch 14/20\n",
      "25000/25000 [==============================] - 6s 249us/step - loss: 0.1303 - acc: 0.9598 - val_loss: 0.4824 - val_acc: 0.8708\n",
      "Epoch 15/20\n",
      "25000/25000 [==============================] - 7s 262us/step - loss: 0.1264 - acc: 0.9629 - val_loss: 0.5069 - val_acc: 0.8731\n",
      "Epoch 16/20\n",
      "25000/25000 [==============================] - 7s 267us/step - loss: 0.1145 - acc: 0.9662 - val_loss: 0.5484 - val_acc: 0.8727\n",
      "Epoch 17/20\n",
      "25000/25000 [==============================] - 8s 302us/step - loss: 0.1115 - acc: 0.9667 - val_loss: 0.5601 - val_acc: 0.8710\n",
      "Epoch 18/20\n",
      "25000/25000 [==============================] - 7s 272us/step - loss: 0.1125 - acc: 0.9668 - val_loss: 0.5532 - val_acc: 0.8678.\n",
      "Epoch 19/20\n",
      "25000/25000 [==============================] - 7s 276us/step - loss: 0.1115 - acc: 0.9688 - val_loss: 0.5813 - val_acc: 0.8695\n",
      "Epoch 20/20\n",
      "25000/25000 [==============================] - 7s 263us/step - loss: 0.1040 - acc: 0.9704 - val_loss: 0.6399 - val_acc: 0.8702\n"
     ]
    }
   ],
   "source": [
    "dpt_model_hist = dpt_model.fit(x_train, y_train,\n",
    "                               epochs=20,\n",
    "                               batch_size=512,\n",
    "                               validation_data=(x_test, y_test))"
   ]
  },
  {
   "cell_type": "markdown",
   "metadata": {},
   "source": [
    "Let's plot the results:"
   ]
  },
  {
   "cell_type": "code",
   "execution_count": 20,
   "metadata": {},
   "outputs": [
    {
     "data": {
      "image/png": "[encoded data removed]",
      "text/plain": [
       "<Figure size 432x288 with 1 Axes>"
      ]
     },
     "metadata": {
      "needs_background": "light"
     },
     "output_type": "display_data"
    }
   ],
   "source": [
    "dpt_model_val_loss = dpt_model_hist.history['val_loss']\n",
    "\n",
    "plt.plot(epochs, original_val_loss, 'b+', label='Original model')\n",
    "plt.plot(epochs, dpt_model_val_loss, 'bo', label='Dropout-regularized model')\n",
    "plt.xlabel('Epochs')\n",
    "plt.ylabel('Validation loss')\n",
    "plt.legend()\n",
    "\n",
    "plt.show()"
   ]
  },
  {
   "cell_type": "markdown",
   "metadata": {},
   "source": [
    "\n",
    "Again, a clear improvement over the reference network.\n",
    "\n",
    "To recap: here the most common ways to prevent overfitting in neural networks:\n",
    "\n",
    "* Getting more training data.\n",
    "* Reducing the capacity of the network.\n",
    "* Adding weight regularization.\n",
    "* Adding dropout."
   ]
  }
 ],
 "metadata": {
  "kernelspec": {
   "display_name": "Python 3",
   "language": "python",
   "name": "python3"
  },
  "language_info": {
   "codemirror_mode": {
    "name": "ipython",
    "version": 3
   },
   "file_extension": ".py",
   "mimetype": "text/x-python",
   "name": "python",
   "nbconvert_exporter": "python",
   "pygments_lexer": "ipython3",
   "version": "3.7.2"
  },
  "toc": {
   "base_numbering": 1,
   "nav_menu": {},
   "number_sections": true,
   "sideBar": true,
   "skip_h1_title": false,
   "title_cell": "Table of Contents",
   "title_sidebar": "Contents",
   "toc_cell": false,
   "toc_position": {},
   "toc_section_display": true,
   "toc_window_display": false
  }
 },
 "nbformat": 4,
 "nbformat_minor": 2
}
